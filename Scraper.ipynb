{
 "cells": [
  {
   "cell_type": "markdown",
   "metadata": {},
   "source": [
    "Growthlist Scraper "
   ]
  },
  {
   "cell_type": "markdown",
   "metadata": {},
   "source": [
    "> Scraper"
   ]
  },
  {
   "cell_type": "code",
   "execution_count": 24,
   "metadata": {},
   "outputs": [],
   "source": [
    "import requests\n",
    "from bs4 import BeautifulSoup\n",
    "import pandas as pd\n",
    "\n",
    "def scrape(url):\n",
    "    response = requests.get(url)\n",
    "    soup = BeautifulSoup(response.content, 'html.parser')\n",
    "    \n",
    "    startups_data = []\n",
    "    table_rows = soup.select('tr[data-row_id]')\n",
    "\n",
    "    for row in table_rows:\n",
    "        columns = row.find_all('td')\n",
    "        if len(columns) > 6:  \n",
    "            data = {\n",
    "                'Name': columns[0].get_text(strip=True) if columns[0] else None,\n",
    "                'Website': columns[1].get_text(strip=True) if columns[1] else None,\n",
    "                'Industry': columns[2].get_text(strip=True) if columns[2] else None,\n",
    "                'Country': columns[3].get_text(strip=True) if columns[3] else None,\n",
    "                'Funding Amount (USD)': columns[4].get_text(strip=True) if columns[4] else None,\n",
    "                'Funding Type': columns[5].get_text(strip=True) if columns[5] else None,\n",
    "                'Last Funding Date': columns[6].get_text(strip=True) if columns[6] else None,\n",
    "            }\n",
    "            startups_data.append(data)\n",
    "\n",
    "    df = pd.DataFrame(startups_data)\n",
    "    return df"
   ]
  },
  {
   "cell_type": "markdown",
   "metadata": {},
   "source": [
    "> List of URLs"
   ]
  },
  {
   "cell_type": "markdown",
   "metadata": {},
   "source": [
    "> Execute - run on URLs and combine into one big dataframe"
   ]
  },
  {
   "cell_type": "code",
   "execution_count": 25,
   "metadata": {},
   "outputs": [],
   "source": [
    "# Organizing URLs\n",
    "urls = {\n",
    "    'Location': {\n",
    "        '': '',\n",
    "    },\n",
    "    'Industry': {\n",
    "        '': '',\n",
    "    },\n",
    "    'Niche': {\n",
    "        '': '',  \n",
    "    }\n",
    "}\n",
    "\n",
    "# List to store each category's DataFrame\n",
    "dfs = []\n",
    "\n",
    "# Loop through the structured dictionary\n",
    "for category, category_urls in urls.items():\n",
    "    for key, url in category_urls.items():\n",
    "        df = scrape(url)  \n",
    "        df['Category'] = category  # Add column based on dictionary value\n",
    "        df['Subcategory'] = key  \n",
    "        dfs.append(df)\n",
    "\n",
    "# Combine all DataFrames into one\n",
    "combined_df = pd.concat(dfs, ignore_index=True)"
   ]
  },
  {
   "cell_type": "markdown",
   "metadata": {},
   "source": [
    "> Filter - remove duplicates, none B2B in industry column, not in USA"
   ]
  },
  {
   "cell_type": "code",
   "execution_count": 26,
   "metadata": {},
   "outputs": [],
   "source": [
    "combined_df = combined_df.drop_duplicates(subset=['Name'])\n",
    "combined_df = combined_df[combined_df['Country'] == 'United States']\n",
    "combined_df = combined_df.drop(columns=['Country'])\n",
    "combined_df = combined_df[combined_df['Industry'].str.contains('B2B')]\n",
    "\n",
    "combined_df['Last Funding Date'] = pd.to_datetime(combined_df['Last Funding Date'], format='%b %Y')\n",
    "combined_df = combined_df.sort_values(by='Last Funding Date', ascending=False)\n"
   ]
  },
  {
   "cell_type": "markdown",
   "metadata": {},
   "source": [
    "> Export to csv"
   ]
  },
  {
   "cell_type": "code",
   "execution_count": 27,
   "metadata": {},
   "outputs": [],
   "source": [
    "# Export combined_df to a CSV file\n",
    "combined_df.to_csv('Growthlist Startups.csv', index=False)"
   ]
  }
 ],
 "metadata": {
  "kernelspec": {
   "display_name": "base",
   "language": "python",
   "name": "python3"
  },
  "language_info": {
   "codemirror_mode": {
    "name": "ipython",
    "version": 3
   },
   "file_extension": ".py",
   "mimetype": "text/x-python",
   "name": "python",
   "nbconvert_exporter": "python",
   "pygments_lexer": "ipython3",
   "version": "3.9.13"
  }
 },
 "nbformat": 4,
 "nbformat_minor": 2
}
